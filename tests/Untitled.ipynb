{
 "cells": [
  {
   "cell_type": "code",
   "execution_count": 5,
   "metadata": {
    "collapsed": false
   },
   "outputs": [
    {
     "name": "stdout",
     "output_type": "stream",
     "text": [
      "aa: abbaba\n",
      "aa: abbab\n",
      "aa: abba\n",
      "aa: abb\n",
      "aa: ab\n",
      "aa: a *\n",
      "1\n",
      "aa: bbaba\n",
      "aa: bbab\n",
      "aa: bba\n",
      "aa: bb\n",
      "aa: b\n",
      "0\n",
      "aa: baba\n",
      "aa: bab\n",
      "aa: ba\n",
      "aa: b\n",
      "0\n",
      "aa: aba\n",
      "aa: ab\n",
      "aa: a *\n",
      "1\n",
      "aa: ba\n",
      "aa: b\n",
      "0\n",
      "aa: a *\n",
      "1\n"
     ]
    }
   ],
   "source": [
    "def iter_prefixes(t, i): \n",
    "    \"from longest to shortest\"\n",
    "\n",
    "    for j in reversed(range(i+1, len(t) + 1)):\n",
    "        yield t[i:j]\n",
    "\n",
    "\n",
    "def ms(t, s, i): \n",
    "    \"\"\"the longest prefix of t[i:] that occurs in s\"\"\"\n",
    "    for prefix in iter_prefixes(t, i): \n",
    "        print s + \": \" + prefix, \n",
    "        if prefix in s:\n",
    "            print \"*\"\n",
    "            return len(prefix)\n",
    "        print\n",
    "    return 0\n",
    "\n",
    "\n",
    "t = 'abbaba'\n",
    "\n",
    "for i in range(len(t)):\n",
    "    print ms(t, 'aa', i)"
   ]
  },
  {
   "cell_type": "code",
   "execution_count": null,
   "metadata": {
    "collapsed": true
   },
   "outputs": [],
   "source": []
  }
 ],
 "metadata": {
  "kernelspec": {
   "display_name": "Python 2",
   "language": "python",
   "name": "python2"
  },
  "language_info": {
   "codemirror_mode": {
    "name": "ipython",
    "version": 2
   },
   "file_extension": ".py",
   "mimetype": "text/x-python",
   "name": "python",
   "nbconvert_exporter": "python",
   "pygments_lexer": "ipython2",
   "version": "2.7.11"
  }
 },
 "nbformat": 4,
 "nbformat_minor": 0
}
