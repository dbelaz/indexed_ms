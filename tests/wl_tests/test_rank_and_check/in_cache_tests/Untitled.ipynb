{
 "cells": [
  {
   "cell_type": "code",
   "execution_count": 7,
   "metadata": {},
   "outputs": [
    {
     "name": "stdout",
     "output_type": "stream",
     "text": [
      "S T\n",
      "---\n",
      "i f\n",
      "c c\n",
      "a b\n",
      "f f\n",
      "l c\n",
      "b b\n",
      "k m\n",
      "k k\n",
      "d b\n",
      "p p\n",
      ". s\n",
      ". b\n",
      ". m\n",
      ". s\n",
      ". f\n",
      ". n\n",
      ". d\n",
      ". c\n",
      ". e\n",
      ". e\n",
      ". d\n",
      ". i\n",
      ". t\n",
      ". a\n",
      ". b\n",
      ". f\n",
      ". t\n",
      ". k\n",
      ". j\n",
      ". f\n",
      ". a\n",
      ". d\n",
      ". t\n",
      ". f\n",
      ". c\n",
      ". b\n",
      ". f\n",
      ". c\n",
      ". b\n",
      ". m\n",
      ". k\n",
      ". b\n",
      ". p\n",
      ". s\n",
      ". b\n",
      ". m\n",
      ". s\n",
      ". f\n",
      ". n\n",
      ". d\n"
     ]
    }
   ],
   "source": [
    "p = 'rep_10s_sim_50t_abcdefghijklmnopqrst_sim2'\n",
    "with open(p + '.s') as fd:\n",
    "    s = fd.read().strip()\n",
    "with open(p + '.t') as fd:\n",
    "    t = fd.read().strip()\n",
    "print \"S T\"\n",
    "print \"---\"\n",
    "for i in range(len(t)):\n",
    "    print s[i] if i < len(s) else \".\", t[i]"
   ]
  },
  {
   "cell_type": "code",
   "execution_count": null,
   "metadata": {
    "collapsed": true
   },
   "outputs": [],
   "source": []
  }
 ],
 "metadata": {
  "kernelspec": {
   "display_name": "Python 2",
   "language": "python",
   "name": "python2"
  },
  "language_info": {
   "codemirror_mode": {
    "name": "ipython",
    "version": 2
   },
   "file_extension": ".py",
   "mimetype": "text/x-python",
   "name": "python",
   "nbconvert_exporter": "python",
   "pygments_lexer": "ipython2",
   "version": "2.7.13"
  }
 },
 "nbformat": 4,
 "nbformat_minor": 2
}
