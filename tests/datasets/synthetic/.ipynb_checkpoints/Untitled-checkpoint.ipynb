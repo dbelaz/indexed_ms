{
 "cells": [
  {
   "cell_type": "code",
   "execution_count": 1,
   "metadata": {},
   "outputs": [],
   "source": [
    "with open('mut_100Ms_5Mt_20.s') as fd:\n",
    "    s = fd.read(1000)\n",
    "with open('mut_100Ms_5Mt_20.t') as fd:\n",
    "    t = fd.read(1000)\n",
    "\n",
    "#list(enumerate(map(lambda aa: aa + (aa[0] == aa[1],),  zip(s, t))))"
   ]
  },
  {
   "cell_type": "code",
   "execution_count": 6,
   "metadata": {},
   "outputs": [
    {
     "data": {
      "text/plain": [
       "Counter({'a': 253, 'b': 298, 'c': 248, 'd': 201})"
      ]
     },
     "execution_count": 6,
     "metadata": {},
     "output_type": "execute_result"
    }
   ],
   "source": [
    "with open('rnd_100Ms_50Kt.s') as fd:\n",
    "    s = fd.read(100)\n",
    "with open('rnd_100Ms_50Kt.t') as fd:\n",
    "    t = fd.read(1000)\n",
    "\n",
    "from collections import Counter\n",
    "Counter(t)"
   ]
  },
  {
   "cell_type": "code",
   "execution_count": null,
   "metadata": {
    "collapsed": true
   },
   "outputs": [],
   "source": []
  }
 ],
 "metadata": {
  "kernelspec": {
   "display_name": "Python 2",
   "language": "python",
   "name": "python2"
  },
  "language_info": {
   "codemirror_mode": {
    "name": "ipython",
    "version": 2
   },
   "file_extension": ".py",
   "mimetype": "text/x-python",
   "name": "python",
   "nbconvert_exporter": "python",
   "pygments_lexer": "ipython2",
   "version": "2.7.13"
  }
 },
 "nbformat": 4,
 "nbformat_minor": 1
}
