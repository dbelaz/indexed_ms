{
 "cells": [
  {
   "cell_type": "code",
   "execution_count": 6,
   "metadata": {
    "collapsed": false
   },
   "outputs": [
    {
     "name": "stderr",
     "output_type": "stream",
     "text": [
      "/Users/denas/arch/Darwin_x86_64/lib/python/site-packages/matplotlib/font_manager.py:273: UserWarning: Matplotlib is building the font cache using fc-list. This may take a moment.\n",
      "  warnings.warn('Matplotlib is building the font cache using fc-list. This may take a moment.')\n"
     ]
    }
   ],
   "source": [
    "%matplotlib inline \n",
    "%load_ext autoreload\n",
    "%autoreload 2\n",
    "import sys\n",
    "from collections import OrderedDict\n",
    "import numpy as np\n",
    "import pandas as pd\n",
    "\n",
    "sys.path.append(\"../\")\n",
    "from utils import FullIndex, ms_table\n",
    "\n",
    "#s = 'bcdbaecdcd'\n",
    "s = open('testing/rnd_200_256.s').read().strip()#[::-1]\n",
    "t = open('testing/rnd_200_256.t').read().strip()\n",
    "\n",
    "#s = open('ssss').read().strip()[::-1]\n",
    "#t = open('tttt').read().strip()\n",
    "\n",
    "#s_index = FullIndex(s)"
   ]
  },
  {
   "cell_type": "code",
   "execution_count": 4,
   "metadata": {
    "collapsed": false
   },
   "outputs": [
    {
     "data": {
      "text/html": [
       "<div>\n",
       "<table border=\"1\" class=\"dataframe\">\n",
       "  <thead>\n",
       "    <tr style=\"text-align: right;\">\n",
       "      <th></th>\n",
       "      <th>s_idx</th>\n",
       "      <th>s</th>\n",
       "      <th>sa_idx</th>\n",
       "      <th>maximal</th>\n",
       "    </tr>\n",
       "  </thead>\n",
       "  <tbody>\n",
       "    <tr>\n",
       "      <th>38</th>\n",
       "      <td>(20, 23)</td>\n",
       "      <td>eec</td>\n",
       "      <td>(249, 251)</td>\n",
       "      <td>False</td>\n",
       "    </tr>\n",
       "    <tr>\n",
       "      <th>48</th>\n",
       "      <td>(25, 28)</td>\n",
       "      <td>dca</td>\n",
       "      <td>(171, 174)</td>\n",
       "      <td>False</td>\n",
       "    </tr>\n",
       "    <tr>\n",
       "      <th>49</th>\n",
       "      <td>(25, 29)</td>\n",
       "      <td>dcab</td>\n",
       "      <td>(171, 173)</td>\n",
       "      <td>False</td>\n",
       "    </tr>\n",
       "    <tr>\n",
       "      <th>80</th>\n",
       "      <td>(61, 64)</td>\n",
       "      <td>ccd</td>\n",
       "      <td>(122, 124)</td>\n",
       "      <td>False</td>\n",
       "    </tr>\n",
       "    <tr>\n",
       "      <th>112</th>\n",
       "      <td>(121, 124)</td>\n",
       "      <td>ddd</td>\n",
       "      <td>(191, 193)</td>\n",
       "      <td>False</td>\n",
       "    </tr>\n",
       "    <tr>\n",
       "      <th>114</th>\n",
       "      <td>(124, 128)</td>\n",
       "      <td>eebc</td>\n",
       "      <td>(246, 248)</td>\n",
       "      <td>False</td>\n",
       "    </tr>\n",
       "    <tr>\n",
       "      <th>122</th>\n",
       "      <td>(147, 152)</td>\n",
       "      <td>eeedd</td>\n",
       "      <td>(255, 257)</td>\n",
       "      <td>False</td>\n",
       "    </tr>\n",
       "    <tr>\n",
       "      <th>123</th>\n",
       "      <td>(148, 151)</td>\n",
       "      <td>eed</td>\n",
       "      <td>(251, 254)</td>\n",
       "      <td>False</td>\n",
       "    </tr>\n",
       "    <tr>\n",
       "      <th>124</th>\n",
       "      <td>(148, 152)</td>\n",
       "      <td>eedd</td>\n",
       "      <td>(252, 254)</td>\n",
       "      <td>False</td>\n",
       "    </tr>\n",
       "    <tr>\n",
       "      <th>128</th>\n",
       "      <td>(152, 155)</td>\n",
       "      <td>cdb</td>\n",
       "      <td>(131, 134)</td>\n",
       "      <td>False</td>\n",
       "    </tr>\n",
       "    <tr>\n",
       "      <th>139</th>\n",
       "      <td>(197, 200)</td>\n",
       "      <td>dad</td>\n",
       "      <td>(159, 161)</td>\n",
       "      <td>False</td>\n",
       "    </tr>\n",
       "  </tbody>\n",
       "</table>\n",
       "</div>"
      ],
      "text/plain": [
       "          s_idx      s      sa_idx maximal\n",
       "38     (20, 23)    eec  (249, 251)   False\n",
       "48     (25, 28)    dca  (171, 174)   False\n",
       "49     (25, 29)   dcab  (171, 173)   False\n",
       "80     (61, 64)    ccd  (122, 124)   False\n",
       "112  (121, 124)    ddd  (191, 193)   False\n",
       "114  (124, 128)   eebc  (246, 248)   False\n",
       "122  (147, 152)  eeedd  (255, 257)   False\n",
       "123  (148, 151)    eed  (251, 254)   False\n",
       "124  (148, 152)   eedd  (252, 254)   False\n",
       "128  (152, 155)    cdb  (131, 134)   False\n",
       "139  (197, 200)    dad  (159, 161)   False"
      ]
     },
     "execution_count": 4,
     "metadata": {},
     "output_type": "execute_result"
    }
   ],
   "source": [
    "\n",
    "dt = []\n",
    "checked = set()\n",
    "\n",
    "a, b = s_index.sa_interval('', FullIndex.FWD)\n",
    "#print \"(0, 0) %s [%d, %d] --> %s\" % ('', a, b, s_index.is_maximal_s(''))\n",
    "dt.append(((0, 0), \"\", (a, b), s_index.is_maximal_s(\"\")))\n",
    "\n",
    "for i in range(len(s)):\n",
    "    for j in range(i + 1, len(s)):\n",
    "        substr = s[i:j]\n",
    "        if not s_index.is_node(substr):\n",
    "            continue\n",
    "        a, b = s_index.sa_interval(substr, FullIndex.FWD)\n",
    "        if (a, b) in checked:\n",
    "            continue\n",
    "\n",
    "        dt.append(((i, j), substr, (a, b), s_index.is_maximal_s(substr)))\n",
    "        #print \"(%d, %d) %s [%d, %d] --> %s\" % (i, j, substr, a, b, s_index.is_maximal_s(substr))\n",
    "        checked |= set([(a, b)])\n",
    "        \n",
    "    #if len(dt) > 25:\n",
    "    #    break\n",
    "dd = pd.DataFrame(dt, columns = [\"s_idx\", \"s\", \"sa_idx\", \"maximal\"])\n",
    "dd.shape, sum(dd.maximal)\n",
    "\n",
    "dd[dd.maximal == False]"
   ]
  },
  {
   "cell_type": "code",
   "execution_count": 5,
   "metadata": {
    "collapsed": false
   },
   "outputs": [],
   "source": [
    "#table2(s)#[50:80]\n",
    "#index_table(s)\n",
    "#s_index.tabs[FullIndex.FWD].iloc[120:140]"
   ]
  },
  {
   "cell_type": "markdown",
   "metadata": {},
   "source": [
    "# Repeat text with uniform length repeats"
   ]
  },
  {
   "cell_type": "code",
   "execution_count": 20,
   "metadata": {
    "collapsed": false
   },
   "outputs": [
    {
     "name": "stdout",
     "output_type": "stream",
     "text": [
      "[28]\n"
     ]
    },
    {
     "name": "stderr",
     "output_type": "stream",
     "text": [
      "/Users/denas/arch/Darwin_x86_64/lib/python/site-packages/ipykernel/__main__.py:36: FutureWarning: \n",
      "The default value for 'return_type' will change to 'axes' in a future release.\n",
      " To use the future behavior now, set return_type='axes'.\n",
      " To keep the previous behavior and silence this warning, set return_type='dict'.\n"
     ]
    },
    {
     "data": {
      "text/plain": [
       "Counter({1: 2, 8: 2, 11: 1, 12: 1, 14: 1, 17: 1, 20: 1, 27: 1})"
      ]
     },
     "execution_count": 20,
     "metadata": {},
     "output_type": "execute_result"
    },
    {
     "data": {
      "image/png": "[encoded data removed]",
      "text/plain": [
       "<matplotlib.figure.Figure at 0x1115bbf90>"
      ]
     },
     "metadata": {},
     "output_type": "display_data"
    }
   ],
   "source": [
    "import random\n",
    "import numpy as np\n",
    "import pandas as pd\n",
    "\n",
    "\n",
    "def dump_str(L, seed_pool):\n",
    "    char_dumped = 0 \n",
    "    while char_dumped < L:\n",
    "        seed_str = random.choice(seed_pool)\n",
    "        n = len(seed_str)\n",
    "\n",
    "        repeat_length = random.choice(xrange(n))\n",
    "        repeat_start_position = random.choice(xrange(n - repeat_length))\n",
    "        assert repeat_length + repeat_start_position <= n\n",
    "        \n",
    "        to_write = seed_str[repeat_start_position:(repeat_start_position + repeat_length)]\n",
    "        char_dumped += len(to_write)\n",
    "        yield (repeat_start_position, (repeat_start_position + repeat_length))\n",
    "\n",
    "def _repeat_input_type((t_path, t_len), (s_path, s_len), source,\n",
    "                       seed_len, seed_nr):\n",
    "    seed_pool = []\n",
    "    for seed_idx in range(seed_nr):\n",
    "        current_seed = \"\".join([random.choice(source) for i in range(seed_len)])\n",
    "        seed_pool.append(current_seed)\n",
    "\n",
    "    with open(t_path, 'w') as fd: \n",
    "        dump_str(fd, t_len)\n",
    "    with open(s_path, 'w') as fd: \n",
    "        dump_str(fd, s_len)\n",
    "\n",
    "seed_pool = ['ababababbababbabababababaaaa']\n",
    "print map(len, seed_pool)\n",
    "d = pd.DataFrame(data = list(dump_str(100, seed_pool)), columns = ['l', 'h'])\n",
    "d['size'] = (d.h - d.l)\n",
    "d.boxplot()\n",
    "\n",
    "from collections import Counter\n",
    "Counter(d['size'].tolist())"
   ]
  },
  {
   "cell_type": "code",
   "execution_count": 16,
   "metadata": {
    "collapsed": false
   },
   "outputs": [
    {
     "ename": "TypeError",
     "evalue": "object of type 'int' has no len()",
     "output_type": "error",
     "traceback": [
      "\u001b[0;31m---------------------------------------------------------------------------\u001b[0m",
      "\u001b[0;31mTypeError\u001b[0m                                 Traceback (most recent call last)",
      "\u001b[0;32m<ipython-input-16-4a12956cad93>\u001b[0m in \u001b[0;36m<module>\u001b[0;34m()\u001b[0m\n\u001b[0;32m----> 1\u001b[0;31m \u001b[0mrandom\u001b[0m\u001b[0;34m.\u001b[0m\u001b[0mchoice\u001b[0m\u001b[0;34m(\u001b[0m\u001b[0;36m6\u001b[0m\u001b[0;34m)\u001b[0m\u001b[0;34m\u001b[0m\u001b[0m\n\u001b[0m",
      "\u001b[0;32m/usr/local/Cellar/python/2.7.11/Frameworks/Python.framework/Versions/2.7/lib/python2.7/random.pyc\u001b[0m in \u001b[0;36mchoice\u001b[0;34m(self, seq)\u001b[0m\n\u001b[1;32m    273\u001b[0m     \u001b[0;32mdef\u001b[0m \u001b[0mchoice\u001b[0m\u001b[0;34m(\u001b[0m\u001b[0mself\u001b[0m\u001b[0;34m,\u001b[0m \u001b[0mseq\u001b[0m\u001b[0;34m)\u001b[0m\u001b[0;34m:\u001b[0m\u001b[0;34m\u001b[0m\u001b[0m\n\u001b[1;32m    274\u001b[0m         \u001b[0;34m\"\"\"Choose a random element from a non-empty sequence.\"\"\"\u001b[0m\u001b[0;34m\u001b[0m\u001b[0m\n\u001b[0;32m--> 275\u001b[0;31m         \u001b[0;32mreturn\u001b[0m \u001b[0mseq\u001b[0m\u001b[0;34m[\u001b[0m\u001b[0mint\u001b[0m\u001b[0;34m(\u001b[0m\u001b[0mself\u001b[0m\u001b[0;34m.\u001b[0m\u001b[0mrandom\u001b[0m\u001b[0;34m(\u001b[0m\u001b[0;34m)\u001b[0m \u001b[0;34m*\u001b[0m \u001b[0mlen\u001b[0m\u001b[0;34m(\u001b[0m\u001b[0mseq\u001b[0m\u001b[0;34m)\u001b[0m\u001b[0;34m)\u001b[0m\u001b[0;34m]\u001b[0m  \u001b[0;31m# raises IndexError if seq is empty\u001b[0m\u001b[0;34m\u001b[0m\u001b[0m\n\u001b[0m\u001b[1;32m    276\u001b[0m \u001b[0;34m\u001b[0m\u001b[0m\n\u001b[1;32m    277\u001b[0m     \u001b[0;32mdef\u001b[0m \u001b[0mshuffle\u001b[0m\u001b[0;34m(\u001b[0m\u001b[0mself\u001b[0m\u001b[0;34m,\u001b[0m \u001b[0mx\u001b[0m\u001b[0;34m,\u001b[0m \u001b[0mrandom\u001b[0m\u001b[0;34m=\u001b[0m\u001b[0mNone\u001b[0m\u001b[0;34m)\u001b[0m\u001b[0;34m:\u001b[0m\u001b[0;34m\u001b[0m\u001b[0m\n",
      "\u001b[0;31mTypeError\u001b[0m: object of type 'int' has no len()"
     ]
    }
   ],
   "source": [
    "\n",
    "random.choice(6)"
   ]
  },
  {
   "cell_type": "code",
   "execution_count": null,
   "metadata": {
    "collapsed": true
   },
   "outputs": [],
   "source": []
  }
 ],
 "metadata": {
  "kernelspec": {
   "display_name": "Python 2",
   "language": "python",
   "name": "python2"
  },
  "language_info": {
   "codemirror_mode": {
    "name": "ipython",
    "version": 2
   },
   "file_extension": ".py",
   "mimetype": "text/x-python",
   "name": "python",
   "nbconvert_exporter": "python",
   "pygments_lexer": "ipython2",
   "version": "2.7.11"
  }
 },
 "nbformat": 4,
 "nbformat_minor": 0
}
