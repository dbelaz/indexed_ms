{
 "cells": [
  {
   "cell_type": "code",
   "execution_count": 45,
   "metadata": {
    "collapsed": false
   },
   "outputs": [
    {
     "name": "stdout",
     "output_type": "stream",
     "text": [
      "The autoreload extension is already loaded. To reload it, use:\n",
      "  %reload_ext autoreload\n"
     ]
    }
   ],
   "source": [
    "%matplotlib inline \n",
    "%load_ext autoreload\n",
    "%autoreload 2\n",
    "import sys\n",
    "from collections import OrderedDict\n",
    "import numpy as np\n",
    "import pandas as pd\n",
    "\n",
    "sys.path.append(\"../\")\n",
    "from utils import FullIndex, ms_table\n",
    "\n",
    "#s = 'bcdbaecdcd'\n",
    "s = open('./rep.s').read().strip()#[::-1]\n",
    "t = open('./rep.t').read().strip()\n",
    "\n",
    "#s = open('ssss').read().strip()[::-1]\n",
    "#t = open('tttt').read().strip()\n",
    "\n",
    "s_index = FullIndex(s)"
   ]
  },
  {
   "cell_type": "code",
   "execution_count": 46,
   "metadata": {
    "collapsed": false
   },
   "outputs": [
    {
     "data": {
      "text/html": [
       "<div>\n",
       "<table border=\"1\" class=\"dataframe\">\n",
       "  <thead>\n",
       "    <tr style=\"text-align: right;\">\n",
       "      <th></th>\n",
       "      <th>s_idx</th>\n",
       "      <th>s</th>\n",
       "      <th>sa_idx</th>\n",
       "      <th>maximal</th>\n",
       "    </tr>\n",
       "  </thead>\n",
       "  <tbody>\n",
       "    <tr>\n",
       "      <th>0</th>\n",
       "      <td>(2, 5)</td>\n",
       "      <td>cab</td>\n",
       "      <td>(12, 15)</td>\n",
       "      <td>False</td>\n",
       "    </tr>\n",
       "    <tr>\n",
       "      <th>1</th>\n",
       "      <td>(2, 6)</td>\n",
       "      <td>cabc</td>\n",
       "      <td>(13, 15)</td>\n",
       "      <td>False</td>\n",
       "    </tr>\n",
       "    <tr>\n",
       "      <th>2</th>\n",
       "      <td>(3, 5)</td>\n",
       "      <td>ab</td>\n",
       "      <td>(1, 4)</td>\n",
       "      <td>False</td>\n",
       "    </tr>\n",
       "    <tr>\n",
       "      <th>3</th>\n",
       "      <td>(3, 6)</td>\n",
       "      <td>abc</td>\n",
       "      <td>(2, 4)</td>\n",
       "      <td>False</td>\n",
       "    </tr>\n",
       "  </tbody>\n",
       "</table>\n",
       "</div>"
      ],
      "text/plain": [
       "    s_idx     s    sa_idx maximal\n",
       "0  (2, 5)   cab  (12, 15)   False\n",
       "1  (2, 6)  cabc  (13, 15)   False\n",
       "2  (3, 5)    ab    (1, 4)   False\n",
       "3  (3, 6)   abc    (2, 4)   False"
      ]
     },
     "execution_count": 46,
     "metadata": {},
     "output_type": "execute_result"
    }
   ],
   "source": [
    "dd = pd.DataFrame([_ for _ in s_index.maxrep_iter() if _[3] is False], \n",
    "                  columns = [\"s_idx\", \"s\", \"sa_idx\", \"maximal\"])\n",
    "dd"
   ]
  },
  {
   "cell_type": "code",
   "execution_count": 48,
   "metadata": {
    "collapsed": false
   },
   "outputs": [
    {
     "data": {
      "text/html": [
       "<div>\n",
       "<table border=\"1\" class=\"dataframe\">\n",
       "  <thead>\n",
       "    <tr style=\"text-align: right;\">\n",
       "      <th></th>\n",
       "      <th>s_i</th>\n",
       "      <th>BWT</th>\n",
       "      <th>SA</th>\n",
       "      <th>suff_SA</th>\n",
       "    </tr>\n",
       "    <tr>\n",
       "      <th>i</th>\n",
       "      <th></th>\n",
       "      <th></th>\n",
       "      <th></th>\n",
       "      <th></th>\n",
       "    </tr>\n",
       "  </thead>\n",
       "  <tbody>\n",
       "    <tr>\n",
       "      <th>0</th>\n",
       "      <td>b</td>\n",
       "      <td>c</td>\n",
       "      <td>20</td>\n",
       "      <td>#</td>\n",
       "    </tr>\n",
       "    <tr>\n",
       "      <th>1</th>\n",
       "      <td>c</td>\n",
       "      <td>c</td>\n",
       "      <td>7</td>\n",
       "      <td>abaccabcaccac#</td>\n",
       "    </tr>\n",
       "    <tr>\n",
       "      <th>2</th>\n",
       "      <td>c</td>\n",
       "      <td>c</td>\n",
       "      <td>12</td>\n",
       "      <td>abcaccac#</td>\n",
       "    </tr>\n",
       "    <tr>\n",
       "      <th>3</th>\n",
       "      <td>a</td>\n",
       "      <td>c</td>\n",
       "      <td>3</td>\n",
       "      <td>abccabaccabcaccac#</td>\n",
       "    </tr>\n",
       "    <tr>\n",
       "      <th>4</th>\n",
       "      <td>b</td>\n",
       "      <td>c</td>\n",
       "      <td>18</td>\n",
       "      <td>ac#</td>\n",
       "    </tr>\n",
       "    <tr>\n",
       "      <th>5</th>\n",
       "      <td>c</td>\n",
       "      <td>b</td>\n",
       "      <td>9</td>\n",
       "      <td>accabcaccac#</td>\n",
       "    </tr>\n",
       "    <tr>\n",
       "      <th>6</th>\n",
       "      <td>c</td>\n",
       "      <td>c</td>\n",
       "      <td>15</td>\n",
       "      <td>accac#</td>\n",
       "    </tr>\n",
       "    <tr>\n",
       "      <th>7</th>\n",
       "      <td>a</td>\n",
       "      <td>a</td>\n",
       "      <td>8</td>\n",
       "      <td>baccabcaccac#</td>\n",
       "    </tr>\n",
       "    <tr>\n",
       "      <th>8</th>\n",
       "      <td>b</td>\n",
       "      <td>a</td>\n",
       "      <td>13</td>\n",
       "      <td>bcaccac#</td>\n",
       "    </tr>\n",
       "    <tr>\n",
       "      <th>9</th>\n",
       "      <td>a</td>\n",
       "      <td>a</td>\n",
       "      <td>4</td>\n",
       "      <td>bccabaccabcaccac#</td>\n",
       "    </tr>\n",
       "    <tr>\n",
       "      <th>10</th>\n",
       "      <td>c</td>\n",
       "      <td>#</td>\n",
       "      <td>0</td>\n",
       "      <td>bccabccabaccabcaccac#</td>\n",
       "    </tr>\n",
       "    <tr>\n",
       "      <th>11</th>\n",
       "      <td>c</td>\n",
       "      <td>a</td>\n",
       "      <td>19</td>\n",
       "      <td>c#</td>\n",
       "    </tr>\n",
       "    <tr>\n",
       "      <th>12</th>\n",
       "      <td>a</td>\n",
       "      <td>c</td>\n",
       "      <td>6</td>\n",
       "      <td>cabaccabcaccac#</td>\n",
       "    </tr>\n",
       "    <tr>\n",
       "      <th>13</th>\n",
       "      <td>b</td>\n",
       "      <td>c</td>\n",
       "      <td>11</td>\n",
       "      <td>cabcaccac#</td>\n",
       "    </tr>\n",
       "    <tr>\n",
       "      <th>14</th>\n",
       "      <td>c</td>\n",
       "      <td>c</td>\n",
       "      <td>2</td>\n",
       "      <td>cabccabaccabcaccac#</td>\n",
       "    </tr>\n",
       "    <tr>\n",
       "      <th>15</th>\n",
       "      <td>a</td>\n",
       "      <td>c</td>\n",
       "      <td>17</td>\n",
       "      <td>cac#</td>\n",
       "    </tr>\n",
       "    <tr>\n",
       "      <th>16</th>\n",
       "      <td>c</td>\n",
       "      <td>b</td>\n",
       "      <td>14</td>\n",
       "      <td>caccac#</td>\n",
       "    </tr>\n",
       "    <tr>\n",
       "      <th>17</th>\n",
       "      <td>c</td>\n",
       "      <td>b</td>\n",
       "      <td>5</td>\n",
       "      <td>ccabaccabcaccac#</td>\n",
       "    </tr>\n",
       "    <tr>\n",
       "      <th>18</th>\n",
       "      <td>a</td>\n",
       "      <td>a</td>\n",
       "      <td>10</td>\n",
       "      <td>ccabcaccac#</td>\n",
       "    </tr>\n",
       "    <tr>\n",
       "      <th>19</th>\n",
       "      <td>c</td>\n",
       "      <td>b</td>\n",
       "      <td>1</td>\n",
       "      <td>ccabccabaccabcaccac#</td>\n",
       "    </tr>\n",
       "    <tr>\n",
       "      <th>20</th>\n",
       "      <td>#</td>\n",
       "      <td>a</td>\n",
       "      <td>16</td>\n",
       "      <td>ccac#</td>\n",
       "    </tr>\n",
       "  </tbody>\n",
       "</table>\n",
       "</div>"
      ],
      "text/plain": [
       "   s_i BWT  SA                suff_SA\n",
       "i                                    \n",
       "0    b   c  20                      #\n",
       "1    c   c   7         abaccabcaccac#\n",
       "2    c   c  12              abcaccac#\n",
       "3    a   c   3     abccabaccabcaccac#\n",
       "4    b   c  18                    ac#\n",
       "5    c   b   9           accabcaccac#\n",
       "6    c   c  15                 accac#\n",
       "7    a   a   8          baccabcaccac#\n",
       "8    b   a  13               bcaccac#\n",
       "9    a   a   4      bccabaccabcaccac#\n",
       "10   c   #   0  bccabccabaccabcaccac#\n",
       "11   c   a  19                     c#\n",
       "12   a   c   6        cabaccabcaccac#\n",
       "13   b   c  11             cabcaccac#\n",
       "14   c   c   2    cabccabaccabcaccac#\n",
       "15   a   c  17                   cac#\n",
       "16   c   b  14                caccac#\n",
       "17   c   b   5       ccabaccabcaccac#\n",
       "18   a   a  10            ccabcaccac#\n",
       "19   c   b   1   ccabccabaccabcaccac#\n",
       "20   #   a  16                  ccac#"
      ]
     },
     "execution_count": 48,
     "metadata": {},
     "output_type": "execute_result"
    }
   ],
   "source": [
    "#ms_table(t, s)#[50:80]\n",
    "s_index.tabs[FullIndex.FWD]"
   ]
  },
  {
   "cell_type": "markdown",
   "metadata": {},
   "source": [
    "# Repeat text with uniform length repeats"
   ]
  },
  {
   "cell_type": "code",
   "execution_count": 20,
   "metadata": {
    "collapsed": false
   },
   "outputs": [
    {
     "name": "stdout",
     "output_type": "stream",
     "text": [
      "[28]\n"
     ]
    },
    {
     "name": "stderr",
     "output_type": "stream",
     "text": [
      "/Users/denas/arch/Darwin_x86_64/lib/python/site-packages/ipykernel/__main__.py:36: FutureWarning: \n",
      "The default value for 'return_type' will change to 'axes' in a future release.\n",
      " To use the future behavior now, set return_type='axes'.\n",
      " To keep the previous behavior and silence this warning, set return_type='dict'.\n"
     ]
    },
    {
     "data": {
      "text/plain": [
       "Counter({1: 2, 8: 2, 11: 1, 12: 1, 14: 1, 17: 1, 20: 1, 27: 1})"
      ]
     },
     "execution_count": 20,
     "metadata": {},
     "output_type": "execute_result"
    },
    {
     "data": {
      "image/png": "[encoded data removed]",
      "text/plain": [
       "<matplotlib.figure.Figure at 0x1115bbf90>"
      ]
     },
     "metadata": {},
     "output_type": "display_data"
    }
   ],
   "source": [
    "import random\n",
    "import numpy as np\n",
    "import pandas as pd\n",
    "\n",
    "\n",
    "def dump_str(L, seed_pool):\n",
    "    char_dumped = 0 \n",
    "    while char_dumped < L:\n",
    "        seed_str = random.choice(seed_pool)\n",
    "        n = len(seed_str)\n",
    "\n",
    "        repeat_length = random.choice(xrange(n))\n",
    "        repeat_start_position = random.choice(xrange(n - repeat_length))\n",
    "        assert repeat_length + repeat_start_position <= n\n",
    "        \n",
    "        to_write = seed_str[repeat_start_position:(repeat_start_position + repeat_length)]\n",
    "        char_dumped += len(to_write)\n",
    "        yield (repeat_start_position, (repeat_start_position + repeat_length))\n",
    "\n",
    "def _repeat_input_type((t_path, t_len), (s_path, s_len), source,\n",
    "                       seed_len, seed_nr):\n",
    "    seed_pool = []\n",
    "    for seed_idx in range(seed_nr):\n",
    "        current_seed = \"\".join([random.choice(source) for i in range(seed_len)])\n",
    "        seed_pool.append(current_seed)\n",
    "\n",
    "    with open(t_path, 'w') as fd: \n",
    "        dump_str(fd, t_len)\n",
    "    with open(s_path, 'w') as fd: \n",
    "        dump_str(fd, s_len)\n",
    "\n",
    "seed_pool = ['ababababbababbabababababaaaa']\n",
    "print map(len, seed_pool)\n",
    "d = pd.DataFrame(data = list(dump_str(100, seed_pool)), columns = ['l', 'h'])\n",
    "d['size'] = (d.h - d.l)\n",
    "d.boxplot()\n",
    "\n",
    "from collections import Counter\n",
    "Counter(d['size'].tolist())"
   ]
  },
  {
   "cell_type": "code",
   "execution_count": 16,
   "metadata": {
    "collapsed": false
   },
   "outputs": [
    {
     "ename": "TypeError",
     "evalue": "object of type 'int' has no len()",
     "output_type": "error",
     "traceback": [
      "\u001b[0;31m---------------------------------------------------------------------------\u001b[0m",
      "\u001b[0;31mTypeError\u001b[0m                                 Traceback (most recent call last)",
      "\u001b[0;32m<ipython-input-16-4a12956cad93>\u001b[0m in \u001b[0;36m<module>\u001b[0;34m()\u001b[0m\n\u001b[0;32m----> 1\u001b[0;31m \u001b[0mrandom\u001b[0m\u001b[0;34m.\u001b[0m\u001b[0mchoice\u001b[0m\u001b[0;34m(\u001b[0m\u001b[0;36m6\u001b[0m\u001b[0;34m)\u001b[0m\u001b[0;34m\u001b[0m\u001b[0m\n\u001b[0m",
      "\u001b[0;32m/usr/local/Cellar/python/2.7.11/Frameworks/Python.framework/Versions/2.7/lib/python2.7/random.pyc\u001b[0m in \u001b[0;36mchoice\u001b[0;34m(self, seq)\u001b[0m\n\u001b[1;32m    273\u001b[0m     \u001b[0;32mdef\u001b[0m \u001b[0mchoice\u001b[0m\u001b[0;34m(\u001b[0m\u001b[0mself\u001b[0m\u001b[0;34m,\u001b[0m \u001b[0mseq\u001b[0m\u001b[0;34m)\u001b[0m\u001b[0;34m:\u001b[0m\u001b[0;34m\u001b[0m\u001b[0m\n\u001b[1;32m    274\u001b[0m         \u001b[0;34m\"\"\"Choose a random element from a non-empty sequence.\"\"\"\u001b[0m\u001b[0;34m\u001b[0m\u001b[0m\n\u001b[0;32m--> 275\u001b[0;31m         \u001b[0;32mreturn\u001b[0m \u001b[0mseq\u001b[0m\u001b[0;34m[\u001b[0m\u001b[0mint\u001b[0m\u001b[0;34m(\u001b[0m\u001b[0mself\u001b[0m\u001b[0;34m.\u001b[0m\u001b[0mrandom\u001b[0m\u001b[0;34m(\u001b[0m\u001b[0;34m)\u001b[0m \u001b[0;34m*\u001b[0m \u001b[0mlen\u001b[0m\u001b[0;34m(\u001b[0m\u001b[0mseq\u001b[0m\u001b[0;34m)\u001b[0m\u001b[0;34m)\u001b[0m\u001b[0;34m]\u001b[0m  \u001b[0;31m# raises IndexError if seq is empty\u001b[0m\u001b[0;34m\u001b[0m\u001b[0m\n\u001b[0m\u001b[1;32m    276\u001b[0m \u001b[0;34m\u001b[0m\u001b[0m\n\u001b[1;32m    277\u001b[0m     \u001b[0;32mdef\u001b[0m \u001b[0mshuffle\u001b[0m\u001b[0;34m(\u001b[0m\u001b[0mself\u001b[0m\u001b[0;34m,\u001b[0m \u001b[0mx\u001b[0m\u001b[0;34m,\u001b[0m \u001b[0mrandom\u001b[0m\u001b[0;34m=\u001b[0m\u001b[0mNone\u001b[0m\u001b[0;34m)\u001b[0m\u001b[0;34m:\u001b[0m\u001b[0;34m\u001b[0m\u001b[0m\n",
      "\u001b[0;31mTypeError\u001b[0m: object of type 'int' has no len()"
     ]
    }
   ],
   "source": [
    "\n",
    "random.choice(6)"
   ]
  },
  {
   "cell_type": "code",
   "execution_count": null,
   "metadata": {
    "collapsed": true
   },
   "outputs": [],
   "source": []
  }
 ],
 "metadata": {
  "kernelspec": {
   "display_name": "Python 2",
   "language": "python",
   "name": "python2"
  },
  "language_info": {
   "codemirror_mode": {
    "name": "ipython",
    "version": 2
   },
   "file_extension": ".py",
   "mimetype": "text/x-python",
   "name": "python",
   "nbconvert_exporter": "python",
   "pygments_lexer": "ipython2",
   "version": "2.7.11"
  }
 },
 "nbformat": 4,
 "nbformat_minor": 0
}
