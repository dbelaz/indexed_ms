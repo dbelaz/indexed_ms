{
 "cells": [
  {
   "cell_type": "code",
   "execution_count": 3,
   "metadata": {
    "collapsed": false
   },
   "outputs": [
    {
     "name": "stdout",
     "output_type": "stream",
     "text": [
      "The autoreload extension is already loaded. To reload it, use:\n",
      "  %reload_ext autoreload\n"
     ]
    }
   ],
   "source": [
    "%matplotlib inline \n",
    "%load_ext autoreload\n",
    "%autoreload 2\n",
    "import sys\n",
    "from collections import OrderedDict\n",
    "import numpy as np\n",
    "import pandas as pd\n",
    "\n",
    "sys.path.append(\"../\")\n",
    "from utils import FullIndex, ms_table\n",
    "\n",
    "#s = 'bcdbaecdcd'\n",
    "s = open('testing/rnd_200_256.s').read().strip()#[::-1]\n",
    "t = open('testing/rnd_200_256.t').read().strip()\n",
    "\n",
    "#s = open('ssss').read().strip()[::-1]\n",
    "#t = open('tttt').read().strip()\n",
    "\n",
    "s_index = FullIndex(s)"
   ]
  },
  {
   "cell_type": "code",
   "execution_count": 4,
   "metadata": {
    "collapsed": false
   },
   "outputs": [
    {
     "data": {
      "text/html": [
       "<div>\n",
       "<table border=\"1\" class=\"dataframe\">\n",
       "  <thead>\n",
       "    <tr style=\"text-align: right;\">\n",
       "      <th></th>\n",
       "      <th>s_idx</th>\n",
       "      <th>s</th>\n",
       "      <th>sa_idx</th>\n",
       "      <th>maximal</th>\n",
       "    </tr>\n",
       "  </thead>\n",
       "  <tbody>\n",
       "    <tr>\n",
       "      <th>38</th>\n",
       "      <td>(20, 23)</td>\n",
       "      <td>eec</td>\n",
       "      <td>(249, 251)</td>\n",
       "      <td>False</td>\n",
       "    </tr>\n",
       "    <tr>\n",
       "      <th>48</th>\n",
       "      <td>(25, 28)</td>\n",
       "      <td>dca</td>\n",
       "      <td>(171, 174)</td>\n",
       "      <td>False</td>\n",
       "    </tr>\n",
       "    <tr>\n",
       "      <th>49</th>\n",
       "      <td>(25, 29)</td>\n",
       "      <td>dcab</td>\n",
       "      <td>(171, 173)</td>\n",
       "      <td>False</td>\n",
       "    </tr>\n",
       "    <tr>\n",
       "      <th>80</th>\n",
       "      <td>(61, 64)</td>\n",
       "      <td>ccd</td>\n",
       "      <td>(122, 124)</td>\n",
       "      <td>False</td>\n",
       "    </tr>\n",
       "    <tr>\n",
       "      <th>112</th>\n",
       "      <td>(121, 124)</td>\n",
       "      <td>ddd</td>\n",
       "      <td>(191, 193)</td>\n",
       "      <td>False</td>\n",
       "    </tr>\n",
       "    <tr>\n",
       "      <th>114</th>\n",
       "      <td>(124, 128)</td>\n",
       "      <td>eebc</td>\n",
       "      <td>(246, 248)</td>\n",
       "      <td>False</td>\n",
       "    </tr>\n",
       "    <tr>\n",
       "      <th>122</th>\n",
       "      <td>(147, 152)</td>\n",
       "      <td>eeedd</td>\n",
       "      <td>(255, 257)</td>\n",
       "      <td>False</td>\n",
       "    </tr>\n",
       "    <tr>\n",
       "      <th>123</th>\n",
       "      <td>(148, 151)</td>\n",
       "      <td>eed</td>\n",
       "      <td>(251, 254)</td>\n",
       "      <td>False</td>\n",
       "    </tr>\n",
       "    <tr>\n",
       "      <th>124</th>\n",
       "      <td>(148, 152)</td>\n",
       "      <td>eedd</td>\n",
       "      <td>(252, 254)</td>\n",
       "      <td>False</td>\n",
       "    </tr>\n",
       "    <tr>\n",
       "      <th>128</th>\n",
       "      <td>(152, 155)</td>\n",
       "      <td>cdb</td>\n",
       "      <td>(131, 134)</td>\n",
       "      <td>False</td>\n",
       "    </tr>\n",
       "    <tr>\n",
       "      <th>139</th>\n",
       "      <td>(197, 200)</td>\n",
       "      <td>dad</td>\n",
       "      <td>(159, 161)</td>\n",
       "      <td>False</td>\n",
       "    </tr>\n",
       "  </tbody>\n",
       "</table>\n",
       "</div>"
      ],
      "text/plain": [
       "          s_idx      s      sa_idx maximal\n",
       "38     (20, 23)    eec  (249, 251)   False\n",
       "48     (25, 28)    dca  (171, 174)   False\n",
       "49     (25, 29)   dcab  (171, 173)   False\n",
       "80     (61, 64)    ccd  (122, 124)   False\n",
       "112  (121, 124)    ddd  (191, 193)   False\n",
       "114  (124, 128)   eebc  (246, 248)   False\n",
       "122  (147, 152)  eeedd  (255, 257)   False\n",
       "123  (148, 151)    eed  (251, 254)   False\n",
       "124  (148, 152)   eedd  (252, 254)   False\n",
       "128  (152, 155)    cdb  (131, 134)   False\n",
       "139  (197, 200)    dad  (159, 161)   False"
      ]
     },
     "execution_count": 4,
     "metadata": {},
     "output_type": "execute_result"
    }
   ],
   "source": [
    "\n",
    "dt = []\n",
    "checked = set()\n",
    "\n",
    "a, b = s_index.sa_interval('', FullIndex.FWD)\n",
    "#print \"(0, 0) %s [%d, %d] --> %s\" % ('', a, b, s_index.is_maximal_s(''))\n",
    "dt.append(((0, 0), \"\", (a, b), s_index.is_maximal_s(\"\")))\n",
    "\n",
    "for i in range(len(s)):\n",
    "    for j in range(i + 1, len(s)):\n",
    "        substr = s[i:j]\n",
    "        if not s_index.is_node(substr):\n",
    "            continue\n",
    "        a, b = s_index.sa_interval(substr, FullIndex.FWD)\n",
    "        if (a, b) in checked:\n",
    "            continue\n",
    "\n",
    "        dt.append(((i, j), substr, (a, b), s_index.is_maximal_s(substr)))\n",
    "        #print \"(%d, %d) %s [%d, %d] --> %s\" % (i, j, substr, a, b, s_index.is_maximal_s(substr))\n",
    "        checked |= set([(a, b)])\n",
    "        \n",
    "    #if len(dt) > 25:\n",
    "    #    break\n",
    "dd = pd.DataFrame(dt, columns = [\"s_idx\", \"s\", \"sa_idx\", \"maximal\"])\n",
    "dd.shape, sum(dd.maximal)\n",
    "\n",
    "dd[dd.maximal == False]"
   ]
  },
  {
   "cell_type": "code",
   "execution_count": 5,
   "metadata": {
    "collapsed": false
   },
   "outputs": [],
   "source": [
    "#table2(s)#[50:80]\n",
    "#index_table(s)\n",
    "#s_index.tabs[FullIndex.FWD].iloc[120:140]"
   ]
  },
  {
   "cell_type": "code",
   "execution_count": null,
   "metadata": {
    "collapsed": true
   },
   "outputs": [],
   "source": []
  }
 ],
 "metadata": {
  "kernelspec": {
   "display_name": "Python 2",
   "language": "python",
   "name": "python2"
  },
  "language_info": {
   "codemirror_mode": {
    "name": "ipython",
    "version": 2
   },
   "file_extension": ".py",
   "mimetype": "text/x-python",
   "name": "python",
   "nbconvert_exporter": "python",
   "pygments_lexer": "ipython2",
   "version": "2.7.11"
  }
 },
 "nbformat": 4,
 "nbformat_minor": 0
}
