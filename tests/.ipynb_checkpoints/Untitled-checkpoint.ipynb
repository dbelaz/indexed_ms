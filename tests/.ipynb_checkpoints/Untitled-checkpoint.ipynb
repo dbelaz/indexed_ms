{
 "cells": [
  {
   "cell_type": "code",
   "execution_count": 59,
   "metadata": {
    "collapsed": false
   },
   "outputs": [],
   "source": [
    "import numpy as np\n",
    "from collections import Counter\n",
    "\n",
    "s = 'bcbabaacacb'\n",
    "def bwt(s):\n",
    "    s = s + \"#\"\n",
    "    A = np.array([list(s[i:] + s[:i]) for i in range(len(s))])\n",
    "    As = np.vstack(sorted(A, key = tuple))\n",
    "    CF=Counter(As[:,0])\n",
    "    S = sorted(CF)\n",
    "    C = [0] * len(CF)\n",
    "\n",
    "    for i in range(len(S)):\n",
    "        if i == 0:\n",
    "            continue\n",
    "        C[i] = C[i-1] + CF[S[i-1]]\n",
    "    return \"\".join(As[:,len(s) - 1]), \"\".join(S), \" \".join(map(str, C))"
   ]
  },
  {
   "cell_type": "code",
   "execution_count": 60,
   "metadata": {
    "collapsed": false
   },
   "outputs": [
    {
     "data": {
      "text/plain": [
       "(('bbbaccac#aab', '#abc', '0 1 5 9'), ('bcabcca#aabb', '#abc', '0 1 5 9'))"
      ]
     },
     "execution_count": 60,
     "metadata": {},
     "output_type": "execute_result"
    }
   ],
   "source": [
    "bwt(s), bwt(s[::-1])"
   ]
  },
  {
   "cell_type": "code",
   "execution_count": 27,
   "metadata": {
    "collapsed": false
   },
   "outputs": [
    {
     "data": {
      "text/plain": [
       "'bbbaccac#aab'"
      ]
     },
     "execution_count": 27,
     "metadata": {},
     "output_type": "execute_result"
    }
   ],
   "source": [
    "s = 'bcbabaacacb#'\n",
    "\n",
    "A = np.array([list(s[i:] + s[:i]) for i in range(len(s))])\n",
    "As = np.vstack(sorted(A, key = tuple))\n",
    "F = As[:,0]\n",
    "L = As[:,len(s) - 1]\n",
    "\"\".join(L)"
   ]
  },
  {
   "cell_type": "code",
   "execution_count": 46,
   "metadata": {
    "collapsed": false
   },
   "outputs": [
    {
     "data": {
      "text/plain": [
       "(array(['#', 'a', 'a', 'a', 'a', 'b', 'b', 'b', 'b', 'c', 'c', 'c'], \n",
       "       dtype='|S1'),\n",
       " Counter({'#': 1, 'a': 4, 'b': 4, 'c': 3}),\n",
       " ['#', 'a', 'b', 'c'])"
      ]
     },
     "execution_count": 46,
     "metadata": {},
     "output_type": "execute_result"
    }
   ],
   "source": [
    "\n"
   ]
  },
  {
   "cell_type": "code",
   "execution_count": 43,
   "metadata": {
    "collapsed": false
   },
   "outputs": [],
   "source": []
  },
  {
   "cell_type": "code",
   "execution_count": 50,
   "metadata": {
    "collapsed": false
   },
   "outputs": [
    {
     "name": "stdout",
     "output_type": "stream",
     "text": [
      "[(0, '#'), (1, 'a'), (5, 'b'), (9, 'c')]\n"
     ]
    }
   ],
   "source": [
    "C = [0] * len(CF)\n",
    "\n",
    "for i in range(len(S)):\n",
    "    if i == 0:\n",
    "        continue\n",
    "    C[i] = C[i-1] + CF[S[i-1]]\n",
    "print zip(C, S)"
   ]
  },
  {
   "cell_type": "code",
   "execution_count": null,
   "metadata": {
    "collapsed": true
   },
   "outputs": [],
   "source": []
  }
 ],
 "metadata": {
  "kernelspec": {
   "display_name": "Python 2",
   "language": "python",
   "name": "python2"
  },
  "language_info": {
   "codemirror_mode": {
    "name": "ipython",
    "version": 2
   },
   "file_extension": ".py",
   "mimetype": "text/x-python",
   "name": "python",
   "nbconvert_exporter": "python",
   "pygments_lexer": "ipython2",
   "version": "2.7.11"
  }
 },
 "nbformat": 4,
 "nbformat_minor": 0
}
