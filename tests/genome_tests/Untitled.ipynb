{
 "cells": [
  {
   "cell_type": "code",
   "execution_count": 3,
   "metadata": {
    "collapsed": false
   },
   "outputs": [
    {
     "data": {
      "text/html": [
       "<div>\n",
       "<table border=\"1\" class=\"dataframe\">\n",
       "  <thead>\n",
       "    <tr style=\"text-align: right;\">\n",
       "      <th></th>\n",
       "      <th>Mus_musculus.GRCm38.dna.chromosome.1</th>\n",
       "      <th>Mus_musculus.GRCm38.dna.chromosome.10</th>\n",
       "      <th>Mus_musculus.GRCm38.dna.chromosome.11</th>\n",
       "    </tr>\n",
       "  </thead>\n",
       "  <tbody>\n",
       "    <tr>\n",
       "      <th>count</th>\n",
       "      <td>568.000000</td>\n",
       "      <td>568.000000</td>\n",
       "      <td>568.000000</td>\n",
       "    </tr>\n",
       "    <tr>\n",
       "      <th>mean</th>\n",
       "      <td>13.364437</td>\n",
       "      <td>13.059859</td>\n",
       "      <td>13.100352</td>\n",
       "    </tr>\n",
       "    <tr>\n",
       "      <th>std</th>\n",
       "      <td>1.712884</td>\n",
       "      <td>1.573572</td>\n",
       "      <td>1.695143</td>\n",
       "    </tr>\n",
       "    <tr>\n",
       "      <th>min</th>\n",
       "      <td>1.000000</td>\n",
       "      <td>1.000000</td>\n",
       "      <td>1.000000</td>\n",
       "    </tr>\n",
       "    <tr>\n",
       "      <th>25%</th>\n",
       "      <td>13.000000</td>\n",
       "      <td>12.000000</td>\n",
       "      <td>12.000000</td>\n",
       "    </tr>\n",
       "    <tr>\n",
       "      <th>50%</th>\n",
       "      <td>13.000000</td>\n",
       "      <td>13.000000</td>\n",
       "      <td>13.000000</td>\n",
       "    </tr>\n",
       "    <tr>\n",
       "      <th>75%</th>\n",
       "      <td>14.000000</td>\n",
       "      <td>14.000000</td>\n",
       "      <td>14.000000</td>\n",
       "    </tr>\n",
       "    <tr>\n",
       "      <th>max</th>\n",
       "      <td>18.000000</td>\n",
       "      <td>17.000000</td>\n",
       "      <td>19.000000</td>\n",
       "    </tr>\n",
       "  </tbody>\n",
       "</table>\n",
       "</div>"
      ],
      "text/plain": [
       "       Mus_musculus.GRCm38.dna.chromosome.1  \\\n",
       "count                            568.000000   \n",
       "mean                              13.364437   \n",
       "std                                1.712884   \n",
       "min                                1.000000   \n",
       "25%                               13.000000   \n",
       "50%                               13.000000   \n",
       "75%                               14.000000   \n",
       "max                               18.000000   \n",
       "\n",
       "       Mus_musculus.GRCm38.dna.chromosome.10  \\\n",
       "count                             568.000000   \n",
       "mean                               13.059859   \n",
       "std                                 1.573572   \n",
       "min                                 1.000000   \n",
       "25%                                12.000000   \n",
       "50%                                13.000000   \n",
       "75%                                14.000000   \n",
       "max                                17.000000   \n",
       "\n",
       "       Mus_musculus.GRCm38.dna.chromosome.11  \n",
       "count                             568.000000  \n",
       "mean                               13.100352  \n",
       "std                                 1.695143  \n",
       "min                                 1.000000  \n",
       "25%                                12.000000  \n",
       "50%                                13.000000  \n",
       "75%                                14.000000  \n",
       "max                                19.000000  "
      ]
     },
     "execution_count": 3,
     "metadata": {},
     "output_type": "execute_result"
    }
   ],
   "source": [
    "import numpy as np\n",
    "import pandas as pd\n",
    "\n",
    "\n",
    "X = pd.read_pickle(\"Homo_sapiens.GRCh38.dna.chromosome.MT.ms.pkl\")\n",
    "X.describe()"
   ]
  },
  {
   "cell_type": "code",
   "execution_count": 4,
   "metadata": {
    "collapsed": false
   },
   "outputs": [
    {
     "data": {
      "text/html": [
       "<div>\n",
       "<table border=\"1\" class=\"dataframe\">\n",
       "  <thead>\n",
       "    <tr style=\"text-align: right;\">\n",
       "      <th></th>\n",
       "      <th>Mus_musculus.GRCm38.dna.chromosome.1</th>\n",
       "      <th>Mus_musculus.GRCm38.dna.chromosome.10</th>\n",
       "      <th>Mus_musculus.GRCm38.dna.chromosome.11</th>\n",
       "    </tr>\n",
       "  </thead>\n",
       "  <tbody>\n",
       "    <tr>\n",
       "      <th>0</th>\n",
       "      <td>14</td>\n",
       "      <td>15</td>\n",
       "      <td>15</td>\n",
       "    </tr>\n",
       "    <tr>\n",
       "      <th>1</th>\n",
       "      <td>15</td>\n",
       "      <td>14</td>\n",
       "      <td>14</td>\n",
       "    </tr>\n",
       "    <tr>\n",
       "      <th>2</th>\n",
       "      <td>14</td>\n",
       "      <td>14</td>\n",
       "      <td>13</td>\n",
       "    </tr>\n",
       "    <tr>\n",
       "      <th>3</th>\n",
       "      <td>14</td>\n",
       "      <td>15</td>\n",
       "      <td>14</td>\n",
       "    </tr>\n",
       "    <tr>\n",
       "      <th>4</th>\n",
       "      <td>15</td>\n",
       "      <td>15</td>\n",
       "      <td>13</td>\n",
       "    </tr>\n",
       "  </tbody>\n",
       "</table>\n",
       "</div>"
      ],
      "text/plain": [
       "   Mus_musculus.GRCm38.dna.chromosome.1  \\\n",
       "0                                    14   \n",
       "1                                    15   \n",
       "2                                    14   \n",
       "3                                    14   \n",
       "4                                    15   \n",
       "\n",
       "   Mus_musculus.GRCm38.dna.chromosome.10  \\\n",
       "0                                     15   \n",
       "1                                     14   \n",
       "2                                     14   \n",
       "3                                     15   \n",
       "4                                     15   \n",
       "\n",
       "   Mus_musculus.GRCm38.dna.chromosome.11  \n",
       "0                                     15  \n",
       "1                                     14  \n",
       "2                                     13  \n",
       "3                                     14  \n",
       "4                                     13  "
      ]
     },
     "execution_count": 4,
     "metadata": {},
     "output_type": "execute_result"
    }
   ],
   "source": [
    "X.head()"
   ]
  },
  {
   "cell_type": "code",
   "execution_count": 9,
   "metadata": {
    "collapsed": false
   },
   "outputs": [
    {
     "data": {
      "text/plain": [
       "dtype('uint32')"
      ]
     },
     "execution_count": 9,
     "metadata": {},
     "output_type": "execute_result"
    }
   ],
   "source": [
    "X['Mus_musculus.GRCm38.dna.chromosome.1'].dtype"
   ]
  },
  {
   "cell_type": "code",
   "execution_count": null,
   "metadata": {
    "collapsed": true
   },
   "outputs": [],
   "source": []
  }
 ],
 "metadata": {
  "kernelspec": {
   "display_name": "Python 2",
   "language": "python",
   "name": "python2"
  },
  "language_info": {
   "codemirror_mode": {
    "name": "ipython",
    "version": 2
   },
   "file_extension": ".py",
   "mimetype": "text/x-python",
   "name": "python",
   "nbconvert_exporter": "python",
   "pygments_lexer": "ipython2",
   "version": "2.7.11"
  }
 },
 "nbformat": 4,
 "nbformat_minor": 0
}
